{
 "cells": [
  {
   "cell_type": "markdown",
   "id": "0e28d0ed",
   "metadata": {},
   "source": [
    "***Link do livro completo para praticar python:***\n",
    "https://anandology.com/python-practice-book/"
   ]
  },
  {
   "cell_type": "markdown",
   "id": "ad93d1fc",
   "metadata": {},
   "source": [
    "# 1. Primeiros passos"
   ]
  },
  {
   "cell_type": "markdown",
   "id": "0b413190",
   "metadata": {},
   "source": [
    "## 1.1 Executando o Interpretador Python"
   ]
  },
  {
   "cell_type": "markdown",
   "id": "a266690b",
   "metadata": {},
   "source": [
    "<p>Python vem com um interpretador interativo. Quando você digita python em seu shell ou prompt, o interpretador python se torna ativo com um prompt >>> e aguarda seus comandos. Como estou utilizando o Jupyter Notebook não preciso utilizar o prompt.</p>"
   ]
  },
  {
   "cell_type": "code",
   "execution_count": 1,
   "id": "b4ffa14c",
   "metadata": {},
   "outputs": [
    {
     "name": "stdout",
     "output_type": "stream",
     "text": [
      "Python 3.8.8\r\n"
     ]
    }
   ],
   "source": [
    "# Verificando a versão do python\n",
    "!python --version"
   ]
  },
  {
   "cell_type": "code",
   "execution_count": 2,
   "id": "658df731",
   "metadata": {},
   "outputs": [
    {
     "name": "stdout",
     "output_type": "stream",
     "text": [
      "Adição: 3\n",
      "Subtração: 2\n",
      "Multiplicação: 9\n",
      "Divisão: 2.0\n",
      "Exponenciação: 27\n",
      "Parte Inteira: 1\n",
      "Módulo: 1\n"
     ]
    }
   ],
   "source": [
    "# Operações matemáticas\n",
    "print('Adição:', 1 + 2)\n",
    "print('Subtração:', 3 - 1)\n",
    "print('Multiplicação:', 3 * 3)\n",
    "print('Divisão:', 4 / 2)\n",
    "print('Exponenciação:', 3 ** 3)\n",
    "print('Parte Inteira:', 5 // 3)\n",
    "print('Módulo:', 5 % 2)"
   ]
  },
  {
   "cell_type": "markdown",
   "id": "473bb756",
   "metadata": {},
   "source": [
    "## 1.2. Execução de scripts em Python"
   ]
  },
  {
   "cell_type": "code",
   "execution_count": 3,
   "id": "059a226d",
   "metadata": {},
   "outputs": [
    {
     "name": "stdout",
     "output_type": "stream",
     "text": [
      "Hello, World!\n"
     ]
    }
   ],
   "source": [
    "# Executando o famoso \"Hello, World!\"\n",
    "print('Hello, World!')"
   ]
  },
  {
   "cell_type": "code",
   "execution_count": 4,
   "id": "a3fa2520",
   "metadata": {},
   "outputs": [
    {
     "name": "stdout",
     "output_type": "stream",
     "text": [
      "Hello World!\r\n"
     ]
    }
   ],
   "source": [
    "# Rodando um código em .py\n",
    "!python hello.py"
   ]
  },
  {
   "cell_type": "markdown",
   "id": "d6d42106",
   "metadata": {},
   "source": [
    "## 1.3. Tipos de dados"
   ]
  },
  {
   "cell_type": "code",
   "execution_count": 5,
   "id": "5266b660",
   "metadata": {},
   "outputs": [
    {
     "data": {
      "text/plain": [
       "3"
      ]
     },
     "execution_count": 5,
     "metadata": {},
     "output_type": "execute_result"
    }
   ],
   "source": [
    "# Números insteiros\n",
    "3"
   ]
  },
  {
   "cell_type": "code",
   "execution_count": 6,
   "id": "8729072f",
   "metadata": {},
   "outputs": [
    {
     "data": {
      "text/plain": [
       "2.5"
      ]
     },
     "execution_count": 6,
     "metadata": {},
     "output_type": "execute_result"
    }
   ],
   "source": [
    "# Números de ponto fluuante\n",
    "2.5"
   ]
  },
  {
   "cell_type": "code",
   "execution_count": 7,
   "id": "365edcb3",
   "metadata": {},
   "outputs": [
    {
     "data": {
      "text/plain": [
       "'hello world'"
      ]
     },
     "execution_count": 7,
     "metadata": {},
     "output_type": "execute_result"
    }
   ],
   "source": [
    "# Textos\n",
    "\"hello world\""
   ]
  },
  {
   "cell_type": "code",
   "execution_count": 8,
   "id": "dc3762e8",
   "metadata": {},
   "outputs": [
    {
     "data": {
      "text/plain": [
       "['a', 'b', 'c']"
      ]
     },
     "execution_count": 8,
     "metadata": {},
     "output_type": "execute_result"
    }
   ],
   "source": [
    "# Listas\n",
    "x = ['a', 'b', 'c']\n",
    "x"
   ]
  },
  {
   "cell_type": "code",
   "execution_count": 9,
   "id": "5e42ba58",
   "metadata": {},
   "outputs": [
    {
     "data": {
      "text/plain": [
       "(1, 2, 3)"
      ]
     },
     "execution_count": 9,
     "metadata": {},
     "output_type": "execute_result"
    }
   ],
   "source": [
    "# Tuplas\n",
    "y = (1, 2, 3)\n",
    "y"
   ]
  },
  {
   "cell_type": "code",
   "execution_count": 10,
   "id": "3957923e",
   "metadata": {},
   "outputs": [
    {
     "data": {
      "text/plain": [
       "'Oddor'"
      ]
     },
     "execution_count": 10,
     "metadata": {},
     "output_type": "execute_result"
    }
   ],
   "source": [
    "# Dicionário\n",
    "z = {'nome': 'Oddor', 'email': 'oddor@exemplo.com'}\n",
    "z['nome']"
   ]
  },
  {
   "cell_type": "code",
   "execution_count": 11,
   "id": "2fcd53a8",
   "metadata": {},
   "outputs": [
    {
     "data": {
      "text/plain": [
       "{1, 2, 3, 4, 5}"
      ]
     },
     "execution_count": 11,
     "metadata": {},
     "output_type": "execute_result"
    }
   ],
   "source": [
    "# set\n",
    "a = {1, 2, 3, 3, 4, 4, 5}\n",
    "a"
   ]
  },
  {
   "cell_type": "code",
   "execution_count": 12,
   "id": "8fc51766",
   "metadata": {},
   "outputs": [
    {
     "data": {
      "text/plain": [
       "(True, False)"
      ]
     },
     "execution_count": 12,
     "metadata": {},
     "output_type": "execute_result"
    }
   ],
   "source": [
    "# Booleano\n",
    "True, False"
   ]
  },
  {
   "cell_type": "code",
   "execution_count": 13,
   "id": "c74739eb",
   "metadata": {},
   "outputs": [
    {
     "name": "stdout",
     "output_type": "stream",
     "text": [
      "None\n"
     ]
    }
   ],
   "source": [
    "# Nulo\n",
    "x = None\n",
    "print(x)"
   ]
  },
  {
   "cell_type": "markdown",
   "id": "b7c388bb",
   "metadata": {},
   "source": [
    "## 1.4. Variáveis"
   ]
  },
  {
   "cell_type": "code",
   "execution_count": 14,
   "id": "525eb8e3",
   "metadata": {},
   "outputs": [
    {
     "data": {
      "text/plain": [
       "5"
      ]
     },
     "execution_count": 14,
     "metadata": {},
     "output_type": "execute_result"
    }
   ],
   "source": [
    "# Variáveis não tem tipo, eles são marcadores de posição\n",
    "# que podem conter tipo de valor.\n",
    "x = 5\n",
    "x"
   ]
  },
  {
   "cell_type": "code",
   "execution_count": 15,
   "id": "0825120d",
   "metadata": {},
   "outputs": [
    {
     "data": {
      "text/plain": [
       "'hello'"
      ]
     },
     "execution_count": 15,
     "metadata": {},
     "output_type": "execute_result"
    }
   ],
   "source": [
    "x = 'hello'\n",
    "x"
   ]
  },
  {
   "cell_type": "markdown",
   "id": "36368e4c",
   "metadata": {},
   "source": [
    "## 1.5. Funções"
   ]
  },
  {
   "cell_type": "code",
   "execution_count": 16,
   "id": "cef55372",
   "metadata": {},
   "outputs": [
    {
     "name": "stdout",
     "output_type": "stream",
     "text": [
      "hello\n"
     ]
    }
   ],
   "source": [
    "# Funções integradas\n",
    "print('hello')"
   ]
  },
  {
   "cell_type": "code",
   "execution_count": 17,
   "id": "1658e561",
   "metadata": {},
   "outputs": [
    {
     "data": {
      "text/plain": [
       "5"
      ]
     },
     "execution_count": 17,
     "metadata": {},
     "output_type": "execute_result"
    }
   ],
   "source": [
    "# Conta a quantidade de caracteres\n",
    "len('hello')"
   ]
  },
  {
   "cell_type": "code",
   "execution_count": 18,
   "id": "c25cd1e2",
   "metadata": {},
   "outputs": [
    {
     "data": {
      "text/plain": [
       "5"
      ]
     },
     "execution_count": 18,
     "metadata": {},
     "output_type": "execute_result"
    }
   ],
   "source": [
    "# Transforma uma string em um número inteiro\n",
    "int('5')"
   ]
  },
  {
   "cell_type": "code",
   "execution_count": 19,
   "id": "37d11eda",
   "metadata": {},
   "outputs": [
    {
     "data": {
      "text/plain": [
       "'5'"
      ]
     },
     "execution_count": 19,
     "metadata": {},
     "output_type": "execute_result"
    }
   ],
   "source": [
    "# Transforma um número em uma string\n",
    "str(5)"
   ]
  },
  {
   "cell_type": "markdown",
   "id": "500a5f2c",
   "metadata": {},
   "source": [
    "### 1.5.1. Exemplo: contar o número de dígitos em um número"
   ]
  },
  {
   "cell_type": "code",
   "execution_count": 20,
   "id": "c5578b8a",
   "metadata": {},
   "outputs": [
    {
     "data": {
      "text/plain": [
       "10715086071862673209484250490600018105614048117055336074437503883703510511249361224931983788156958581275946729175531468251871452856923140435984577574698574803934567774824230985421074605062371141877954182153046474983581941267398767559165543946077062914571196477686542167660429831652624386837205668069376"
      ]
     },
     "execution_count": 20,
     "metadata": {},
     "output_type": "execute_result"
    }
   ],
   "source": [
    "2 ** 1000"
   ]
  },
  {
   "cell_type": "code",
   "execution_count": 21,
   "id": "d8bb603c",
   "metadata": {},
   "outputs": [
    {
     "data": {
      "text/plain": [
       "302"
      ]
     },
     "execution_count": 21,
     "metadata": {},
     "output_type": "execute_result"
    }
   ],
   "source": [
    "# Transforma o número em string e conta a quantidade de caracteres\n",
    "len(str(2 ** 1000))"
   ]
  },
  {
   "cell_type": "markdown",
   "id": "0466e282",
   "metadata": {},
   "source": [
    "## 1.6. Escrevendo funções personalizadas"
   ]
  },
  {
   "cell_type": "code",
   "execution_count": 22,
   "id": "89084feb",
   "metadata": {},
   "outputs": [],
   "source": [
    "#\n",
    "def quadrado(x):\n",
    "    return x * x"
   ]
  },
  {
   "cell_type": "code",
   "execution_count": 23,
   "id": "73810f00",
   "metadata": {},
   "outputs": [
    {
     "data": {
      "text/plain": [
       "25"
      ]
     },
     "execution_count": 23,
     "metadata": {},
     "output_type": "execute_result"
    }
   ],
   "source": [
    "quadrado(5)"
   ]
  },
  {
   "cell_type": "code",
   "execution_count": 24,
   "id": "72f3c2bc",
   "metadata": {},
   "outputs": [
    {
     "data": {
      "text/plain": [
       "13"
      ]
     },
     "execution_count": 24,
     "metadata": {},
     "output_type": "execute_result"
    }
   ],
   "source": [
    "quadrado(2) + quadrado(3)"
   ]
  },
  {
   "cell_type": "code",
   "execution_count": 25,
   "id": "5782fa98",
   "metadata": {},
   "outputs": [
    {
     "data": {
      "text/plain": [
       "81"
      ]
     },
     "execution_count": 25,
     "metadata": {},
     "output_type": "execute_result"
    }
   ],
   "source": [
    "quadrado(quadrado(3))"
   ]
  },
  {
   "cell_type": "code",
   "execution_count": 26,
   "id": "f6a96dfe",
   "metadata": {},
   "outputs": [],
   "source": [
    "def soma_dos_quadrados(x, y):\n",
    "    return quadrado(x) + quadrado(y)"
   ]
  },
  {
   "cell_type": "code",
   "execution_count": 27,
   "id": "2ca232b2",
   "metadata": {},
   "outputs": [
    {
     "data": {
      "text/plain": [
       "13"
      ]
     },
     "execution_count": 27,
     "metadata": {},
     "output_type": "execute_result"
    }
   ],
   "source": [
    "soma_dos_quadrados(2, 3)"
   ]
  },
  {
   "cell_type": "code",
   "execution_count": 28,
   "id": "aaaa63bf",
   "metadata": {},
   "outputs": [
    {
     "data": {
      "text/plain": [
       "81"
      ]
     },
     "execution_count": 28,
     "metadata": {},
     "output_type": "execute_result"
    }
   ],
   "source": [
    "f = quadrado\n",
    "f(9)"
   ]
  },
  {
   "cell_type": "code",
   "execution_count": 29,
   "id": "c05a86a8",
   "metadata": {},
   "outputs": [],
   "source": [
    "def fxy(f, x, y):\n",
    "    return f(x) + f(y)"
   ]
  },
  {
   "cell_type": "code",
   "execution_count": 30,
   "id": "7d8fcd95",
   "metadata": {},
   "outputs": [
    {
     "data": {
      "text/plain": [
       "13"
      ]
     },
     "execution_count": 30,
     "metadata": {},
     "output_type": "execute_result"
    }
   ],
   "source": [
    "fxy(quadrado, 2, 3)"
   ]
  },
  {
   "cell_type": "code",
   "execution_count": 31,
   "id": "1319d470",
   "metadata": {},
   "outputs": [
    {
     "name": "stdout",
     "output_type": "stream",
     "text": [
      "0 0\n"
     ]
    }
   ],
   "source": [
    "x = 0\n",
    "y = 0\n",
    "def incr(x):\n",
    "    y = x + 1\n",
    "    return y\n",
    "incr(5)\n",
    "print(x, y)"
   ]
  },
  {
   "cell_type": "code",
   "execution_count": 32,
   "id": "ad94fa49",
   "metadata": {},
   "outputs": [],
   "source": [
    "pi = 3.14\n",
    "def area(r):\n",
    "    return pi ** r * r"
   ]
  },
  {
   "cell_type": "code",
   "execution_count": 33,
   "id": "6e61beaf",
   "metadata": {},
   "outputs": [
    {
     "data": {
      "text/plain": [
       "388.8468486400001"
      ]
     },
     "execution_count": 33,
     "metadata": {},
     "output_type": "execute_result"
    }
   ],
   "source": [
    "area(4)"
   ]
  },
  {
   "cell_type": "code",
   "execution_count": 34,
   "id": "de02534a",
   "metadata": {},
   "outputs": [],
   "source": [
    "# Declarando uma variável global\n",
    "ligacoes = 0\n",
    "def quadrado(x):\n",
    "    global ligacoes\n",
    "    ligacoes += 1\n",
    "    return x * x"
   ]
  },
  {
   "cell_type": "markdown",
   "id": "8e2a7725",
   "metadata": {},
   "source": [
    "***Problema 2:***<p>Quantas multiplicações são realizadas quando cada uma das seguintes linhas de código é executada?</p>"
   ]
  },
  {
   "cell_type": "code",
   "execution_count": 35,
   "id": "a100ee5d",
   "metadata": {},
   "outputs": [
    {
     "name": "stdout",
     "output_type": "stream",
     "text": [
      "25\n",
      "100\n"
     ]
    }
   ],
   "source": [
    "print(quadrado(5))\n",
    "print(quadrado(2*5))"
   ]
  },
  {
   "cell_type": "markdown",
   "id": "4f28336d",
   "metadata": {},
   "source": [
    "***Problema 3:***\n",
    "<p>Qual será o resultado do programa a seguir?</p>"
   ]
  },
  {
   "cell_type": "code",
   "execution_count": 36,
   "id": "fa9567db",
   "metadata": {},
   "outputs": [
    {
     "name": "stdout",
     "output_type": "stream",
     "text": [
      "1\n",
      "1\n"
     ]
    }
   ],
   "source": [
    "x = 1\n",
    "def f():\n",
    "    return x\n",
    "print(x)\n",
    "print(f())"
   ]
  },
  {
   "cell_type": "markdown",
   "id": "3edd3589",
   "metadata": {},
   "source": [
    "***Problema 4:***\n",
    "<p>Qual será o resultado do programa a seguir?</p>"
   ]
  },
  {
   "cell_type": "code",
   "execution_count": 37,
   "id": "13148bab",
   "metadata": {},
   "outputs": [
    {
     "name": "stdout",
     "output_type": "stream",
     "text": [
      "1\n",
      "2\n",
      "1\n"
     ]
    }
   ],
   "source": [
    "x = 1\n",
    "def f():\n",
    "    x = 2\n",
    "    return x\n",
    "print(x)\n",
    "print(f())\n",
    "print(x)"
   ]
  },
  {
   "cell_type": "markdown",
   "id": "f442e7e1",
   "metadata": {},
   "source": [
    "***Problema 5:***\n",
    "<p>Qual será o resultado do programa a seguir?</p>"
   ]
  },
  {
   "cell_type": "code",
   "execution_count": 38,
   "id": "1f5fe28d",
   "metadata": {},
   "outputs": [
    {
     "name": "stdout",
     "output_type": "stream",
     "text": [
      "1\n",
      "3\n",
      "2\n"
     ]
    }
   ],
   "source": [
    "x = 1\n",
    "def f():\n",
    "    global x # Se não declarar o x como global, ocorre um erro na função\n",
    "    y = x\n",
    "    x = 2\n",
    "    return x + y\n",
    "print(x)\n",
    "print(f())\n",
    "print(x)"
   ]
  },
  {
   "cell_type": "markdown",
   "id": "4278492d",
   "metadata": {},
   "source": [
    "***Problema 6:***\n",
    "<p>Qual será o resultado do programa a seguir?</p>"
   ]
  },
  {
   "cell_type": "code",
   "execution_count": 39,
   "id": "874b694a",
   "metadata": {},
   "outputs": [
    {
     "name": "stdout",
     "output_type": "stream",
     "text": [
      "2 9\n"
     ]
    }
   ],
   "source": [
    "x = 2\n",
    "def f(a):\n",
    "    x = a * a\n",
    "    return x\n",
    "y = f(3)\n",
    "print(x, y)"
   ]
  },
  {
   "cell_type": "markdown",
   "id": "67de4582",
   "metadata": {},
   "source": [
    "<p>Declarando os argumentos explicitamente dentro de uma função</p>"
   ]
  },
  {
   "cell_type": "code",
   "execution_count": 40,
   "id": "6145231a",
   "metadata": {},
   "outputs": [],
   "source": [
    "# Declarando a função\n",
    "def diferenca(x, y):\n",
    "    return x - y"
   ]
  },
  {
   "cell_type": "code",
   "execution_count": 41,
   "id": "af8d84b0",
   "metadata": {},
   "outputs": [
    {
     "data": {
      "text/plain": [
       "3"
      ]
     },
     "execution_count": 41,
     "metadata": {},
     "output_type": "execute_result"
    }
   ],
   "source": [
    "diferenca(5, 2)"
   ]
  },
  {
   "cell_type": "code",
   "execution_count": 42,
   "id": "880059e0",
   "metadata": {},
   "outputs": [
    {
     "data": {
      "text/plain": [
       "3"
      ]
     },
     "execution_count": 42,
     "metadata": {},
     "output_type": "execute_result"
    }
   ],
   "source": [
    "diferenca(x=5, y=2)"
   ]
  },
  {
   "cell_type": "code",
   "execution_count": 43,
   "id": "0ade0598",
   "metadata": {},
   "outputs": [
    {
     "data": {
      "text/plain": [
       "3"
      ]
     },
     "execution_count": 43,
     "metadata": {},
     "output_type": "execute_result"
    }
   ],
   "source": [
    "diferenca(5, y=2)"
   ]
  },
  {
   "cell_type": "code",
   "execution_count": 44,
   "id": "83f5ac90",
   "metadata": {},
   "outputs": [
    {
     "data": {
      "text/plain": [
       "3"
      ]
     },
     "execution_count": 44,
     "metadata": {},
     "output_type": "execute_result"
    }
   ],
   "source": [
    "diferenca(y=2, x=5)"
   ]
  },
  {
   "cell_type": "markdown",
   "id": "1fc50e37",
   "metadata": {},
   "source": [
    "<p>Valores padrões dentro de uma função</p>"
   ]
  },
  {
   "cell_type": "code",
   "execution_count": 45,
   "id": "a45760df",
   "metadata": {},
   "outputs": [],
   "source": [
    "def incremento(x, valor=1):\n",
    "    return x + valor"
   ]
  },
  {
   "cell_type": "code",
   "execution_count": 46,
   "id": "e6ca6085",
   "metadata": {},
   "outputs": [
    {
     "data": {
      "text/plain": [
       "11"
      ]
     },
     "execution_count": 46,
     "metadata": {},
     "output_type": "execute_result"
    }
   ],
   "source": [
    "incremento(10)"
   ]
  },
  {
   "cell_type": "code",
   "execution_count": 47,
   "id": "04e0653e",
   "metadata": {},
   "outputs": [
    {
     "data": {
      "text/plain": [
       "15"
      ]
     },
     "execution_count": 47,
     "metadata": {},
     "output_type": "execute_result"
    }
   ],
   "source": [
    "incremento(10, 5)"
   ]
  },
  {
   "cell_type": "code",
   "execution_count": 48,
   "id": "cc8bbb8a",
   "metadata": {},
   "outputs": [
    {
     "data": {
      "text/plain": [
       "12"
      ]
     },
     "execution_count": 48,
     "metadata": {},
     "output_type": "execute_result"
    }
   ],
   "source": [
    "incremento(10, valor=2)"
   ]
  },
  {
   "cell_type": "markdown",
   "id": "d046fecb",
   "metadata": {},
   "source": [
    "<p>Cirando função com o perador lambda</p>"
   ]
  },
  {
   "cell_type": "code",
   "execution_count": 49,
   "id": "024d3a37",
   "metadata": {},
   "outputs": [
    {
     "data": {
      "text/plain": [
       "35"
      ]
     },
     "execution_count": 49,
     "metadata": {},
     "output_type": "execute_result"
    }
   ],
   "source": [
    "cubo = lambda x: x ** 3\n",
    "fxy(cubo, 2, 3)"
   ]
  },
  {
   "cell_type": "code",
   "execution_count": 50,
   "id": "91453f13",
   "metadata": {},
   "outputs": [
    {
     "data": {
      "text/plain": [
       "35"
      ]
     },
     "execution_count": 50,
     "metadata": {},
     "output_type": "execute_result"
    }
   ],
   "source": [
    "# Função passada como argumento dentro a função\n",
    "fxy(lambda x: x ** 3, 2, 3)"
   ]
  },
  {
   "cell_type": "markdown",
   "id": "b4599635",
   "metadata": {},
   "source": [
    "<p>Mínimo e Máximo</p>"
   ]
  },
  {
   "cell_type": "code",
   "execution_count": 51,
   "id": "46618b79",
   "metadata": {},
   "outputs": [
    {
     "data": {
      "text/plain": [
       "1"
      ]
     },
     "execution_count": 51,
     "metadata": {},
     "output_type": "execute_result"
    }
   ],
   "source": [
    "min(2, 3, 1)"
   ]
  },
  {
   "cell_type": "code",
   "execution_count": 52,
   "id": "387d83ee",
   "metadata": {},
   "outputs": [
    {
     "data": {
      "text/plain": [
       "5"
      ]
     },
     "execution_count": 52,
     "metadata": {},
     "output_type": "execute_result"
    }
   ],
   "source": [
    "max(1, 5, 2, 3)"
   ]
  },
  {
   "cell_type": "markdown",
   "id": "4c62e08a",
   "metadata": {},
   "source": [
    "***Problema 7:***\n",
    "<p>Escreva uma função para encontrar o número de dígitos em um número fornecido</p>"
   ]
  },
  {
   "cell_type": "code",
   "execution_count": 53,
   "id": "9ce10d62",
   "metadata": {},
   "outputs": [],
   "source": [
    "def conta_digitos(x):\n",
    "    return len(str(x))"
   ]
  },
  {
   "cell_type": "code",
   "execution_count": 54,
   "id": "4398b486",
   "metadata": {},
   "outputs": [
    {
     "data": {
      "text/plain": [
       "1"
      ]
     },
     "execution_count": 54,
     "metadata": {},
     "output_type": "execute_result"
    }
   ],
   "source": [
    "conta_digitos(5)"
   ]
  },
  {
   "cell_type": "code",
   "execution_count": 55,
   "id": "7acabb60",
   "metadata": {},
   "outputs": [
    {
     "data": {
      "text/plain": [
       "5"
      ]
     },
     "execution_count": 55,
     "metadata": {},
     "output_type": "execute_result"
    }
   ],
   "source": [
    "conta_digitos(12345)"
   ]
  },
  {
   "cell_type": "code",
   "execution_count": 56,
   "id": "55ff77f6",
   "metadata": {},
   "outputs": [
    {
     "name": "stdout",
     "output_type": "stream",
     "text": [
      "HELLO\n"
     ]
    }
   ],
   "source": [
    "# Upper -> Converte o texto para letras maiúsculas\n",
    "x = 'hello'\n",
    "print(x.upper())"
   ]
  },
  {
   "cell_type": "code",
   "execution_count": 57,
   "id": "0909dc81",
   "metadata": {},
   "outputs": [
    {
     "data": {
      "text/plain": [
       "'HELLO'"
      ]
     },
     "execution_count": 57,
     "metadata": {},
     "output_type": "execute_result"
    }
   ],
   "source": [
    "f = x.upper\n",
    "f()"
   ]
  },
  {
   "cell_type": "markdown",
   "id": "fb2b141f",
   "metadata": {},
   "source": [
    "***Problema 8:***\n",
    "<p>Escreva uma função istrcmp para comparar duas strings</p>"
   ]
  },
  {
   "cell_type": "code",
   "execution_count": 58,
   "id": "d7c3b9d4",
   "metadata": {},
   "outputs": [],
   "source": [
    "def istrcmp(x, y):\n",
    "    return x.lower() == y.lower()"
   ]
  },
  {
   "cell_type": "code",
   "execution_count": 59,
   "id": "489a571b",
   "metadata": {},
   "outputs": [
    {
     "data": {
      "text/plain": [
       "True"
      ]
     },
     "execution_count": 59,
     "metadata": {},
     "output_type": "execute_result"
    }
   ],
   "source": [
    "istrcmp('python', 'PythOn')"
   ]
  },
  {
   "cell_type": "code",
   "execution_count": 60,
   "id": "ada34e9a",
   "metadata": {},
   "outputs": [
    {
     "data": {
      "text/plain": [
       "True"
      ]
     },
     "execution_count": 60,
     "metadata": {},
     "output_type": "execute_result"
    }
   ],
   "source": [
    "istrcmp('LATEX', 'latex')"
   ]
  },
  {
   "cell_type": "code",
   "execution_count": 61,
   "id": "fe0de1ec",
   "metadata": {},
   "outputs": [
    {
     "data": {
      "text/plain": [
       "False"
      ]
     },
     "execution_count": 61,
     "metadata": {},
     "output_type": "execute_result"
    }
   ],
   "source": [
    "istrcmp('a', 'b')"
   ]
  },
  {
   "cell_type": "markdown",
   "id": "17f1606f",
   "metadata": {},
   "source": [
    "## 1.7. Expressões condicionais"
   ]
  },
  {
   "cell_type": "markdown",
   "id": "e8013804",
   "metadata": {},
   "source": [
    "<p>Python fornece vários operadores para comparar valores. O resultado de uma comparação é um valor booleano, True ou False.</p>"
   ]
  },
  {
   "cell_type": "code",
   "execution_count": 62,
   "id": "d33101ed",
   "metadata": {},
   "outputs": [
    {
     "data": {
      "text/plain": [
       "True"
      ]
     },
     "execution_count": 62,
     "metadata": {},
     "output_type": "execute_result"
    }
   ],
   "source": [
    "2 < 3"
   ]
  },
  {
   "cell_type": "code",
   "execution_count": 63,
   "id": "e1f721e7",
   "metadata": {},
   "outputs": [
    {
     "data": {
      "text/plain": [
       "False"
      ]
     },
     "execution_count": 63,
     "metadata": {},
     "output_type": "execute_result"
    }
   ],
   "source": [
    "2 > 3"
   ]
  },
  {
   "cell_type": "markdown",
   "id": "5f74846a",
   "metadata": {},
   "source": [
    "***Lista de operadores:***\n",
    "<li>\n",
    "    <lu>== - igual a</lu><br>\n",
    "    <lu>!= - direfente</lu><br>\n",
    "    <lu><  - menor que</lu><br>\n",
    "    <lu>>  - maior que</lu><br>\n",
    "    <lu><= - menor que ou igual a</lu><br>\n",
    "    <lu>>= - maior que ou igual a</lu><br>\n",
    "</li>"
   ]
  },
  {
   "cell_type": "code",
   "execution_count": 64,
   "id": "47d8bf11",
   "metadata": {},
   "outputs": [
    {
     "data": {
      "text/plain": [
       "True"
      ]
     },
     "execution_count": 64,
     "metadata": {},
     "output_type": "execute_result"
    }
   ],
   "source": [
    "# Combinando operadores\n",
    "x = 5\n",
    "2 < 5 < 10"
   ]
  },
  {
   "cell_type": "code",
   "execution_count": 65,
   "id": "d4df6b74",
   "metadata": {},
   "outputs": [
    {
     "data": {
      "text/plain": [
       "True"
      ]
     },
     "execution_count": 65,
     "metadata": {},
     "output_type": "execute_result"
    }
   ],
   "source": [
    "2 < 3 < 4 < 6"
   ]
  },
  {
   "cell_type": "code",
   "execution_count": 66,
   "id": "56e5ec2f",
   "metadata": {},
   "outputs": [
    {
     "data": {
      "text/plain": [
       "True"
      ]
     },
     "execution_count": 66,
     "metadata": {},
     "output_type": "execute_result"
    }
   ],
   "source": [
    "# Valores condicionais em strings\n",
    "'python' > 'perl'"
   ]
  },
  {
   "cell_type": "code",
   "execution_count": 67,
   "id": "bc766426",
   "metadata": {},
   "outputs": [
    {
     "data": {
      "text/plain": [
       "False"
      ]
     },
     "execution_count": 67,
     "metadata": {},
     "output_type": "execute_result"
    }
   ],
   "source": [
    "'java' > 'python'"
   ]
  },
  {
   "cell_type": "markdown",
   "id": "667c4092",
   "metadata": {},
   "source": [
    "***Operadores lógicos para comparar valores booleanos:***\n",
    "<li><b>and -> </b>se ambos forem verdadeiros = True</li>\n",
    "<li><b>or -> </b>se um dos dois valores forem verdadeiros = True</li>\n",
    "<li><b>not -></b>se a condição for falsa = True</li>"
   ]
  },
  {
   "cell_type": "code",
   "execution_count": 68,
   "id": "ce00a692",
   "metadata": {},
   "outputs": [
    {
     "data": {
      "text/plain": [
       "False"
      ]
     },
     "execution_count": 68,
     "metadata": {},
     "output_type": "execute_result"
    }
   ],
   "source": [
    "True and False"
   ]
  },
  {
   "cell_type": "code",
   "execution_count": 69,
   "id": "7c2dc5f9",
   "metadata": {},
   "outputs": [
    {
     "data": {
      "text/plain": [
       "True"
      ]
     },
     "execution_count": 69,
     "metadata": {},
     "output_type": "execute_result"
    }
   ],
   "source": [
    "True and True"
   ]
  },
  {
   "cell_type": "code",
   "execution_count": 70,
   "id": "9a90c558",
   "metadata": {},
   "outputs": [
    {
     "data": {
      "text/plain": [
       "False"
      ]
     },
     "execution_count": 70,
     "metadata": {},
     "output_type": "execute_result"
    }
   ],
   "source": [
    "2 < 3 and 5 < 4"
   ]
  },
  {
   "cell_type": "code",
   "execution_count": 71,
   "id": "d040eae1",
   "metadata": {},
   "outputs": [
    {
     "data": {
      "text/plain": [
       "True"
      ]
     },
     "execution_count": 71,
     "metadata": {},
     "output_type": "execute_result"
    }
   ],
   "source": [
    "2 < 3 or 5 < 4"
   ]
  },
  {
   "cell_type": "markdown",
   "id": "c55047df",
   "metadata": {},
   "source": [
    "***Problema 9:***\n",
    "<p>Qual será o resultado do programa a seguir?</p>"
   ]
  },
  {
   "cell_type": "code",
   "execution_count": 72,
   "id": "7243b0c1",
   "metadata": {},
   "outputs": [
    {
     "name": "stdout",
     "output_type": "stream",
     "text": [
      "True\n",
      "True\n",
      "True\n",
      "False\n"
     ]
    }
   ],
   "source": [
    "print(2 < 3 and 3 > 1)\n",
    "print(2 < 3 or 3 > 1)\n",
    "print(2 < 3 or not 3 > 1)\n",
    "print(2 < 3 and not 3 > 1)"
   ]
  },
  {
   "cell_type": "markdown",
   "id": "5f462446",
   "metadata": {},
   "source": [
    "***Problema 10:***\n",
    "<p>Qual será o resultado do programa a seguir?</p>"
   ]
  },
  {
   "cell_type": "code",
   "execution_count": 73,
   "id": "e97e8931",
   "metadata": {},
   "outputs": [
    {
     "name": "stdout",
     "output_type": "stream",
     "text": [
      "True\n"
     ]
    }
   ],
   "source": [
    "x = 4\n",
    "y = 5\n",
    "p = x < y or x < z\n",
    "print(p)"
   ]
  },
  {
   "cell_type": "markdown",
   "id": "e1021054",
   "metadata": {},
   "source": [
    "<p><b>If e else:</b></p>"
   ]
  },
  {
   "cell_type": "code",
   "execution_count": 74,
   "id": "9db0da5c",
   "metadata": {},
   "outputs": [
    {
     "name": "stdout",
     "output_type": "stream",
     "text": [
      "até\n"
     ]
    }
   ],
   "source": [
    "x = 42\n",
    "if x % 2 == 0: print('até')"
   ]
  },
  {
   "cell_type": "code",
   "execution_count": 75,
   "id": "800b27ad",
   "metadata": {},
   "outputs": [
    {
     "name": "stdout",
     "output_type": "stream",
     "text": [
      "chance\n"
     ]
    }
   ],
   "source": [
    "x = 3\n",
    "if x % 2 == 0:\n",
    "    print('até')\n",
    "else:\n",
    "    print('chance')"
   ]
  },
  {
   "cell_type": "markdown",
   "id": "6cb4293e",
   "metadata": {},
   "source": [
    "***elif:***"
   ]
  },
  {
   "cell_type": "code",
   "execution_count": 76,
   "id": "c5d15515",
   "metadata": {},
   "outputs": [
    {
     "name": "stdout",
     "output_type": "stream",
     "text": [
      "Número de 2 dígitos\n"
     ]
    }
   ],
   "source": [
    "x = 42\n",
    "if x < 10:\n",
    "    print('Número de 1 dígito')\n",
    "elif x < 100:\n",
    "    print('Número de 2 dígitos')\n",
    "else:\n",
    "    print('Número grande')"
   ]
  },
  {
   "cell_type": "markdown",
   "id": "539bdda6",
   "metadata": {},
   "source": [
    "***Problema 11:***\n",
    "<p>O que acontece quando o código a seguir é executado? Vai dar algum erro? Explique.</p>"
   ]
  },
  {
   "cell_type": "code",
   "execution_count": 77,
   "id": "a46348b3",
   "metadata": {},
   "outputs": [
    {
     "name": "stdout",
     "output_type": "stream",
     "text": [
      "2\n"
     ]
    }
   ],
   "source": [
    "x = 2\n",
    "if x == 2:\n",
    "    print(x)\n",
    "else:\n",
    "    print(y)"
   ]
  },
  {
   "cell_type": "markdown",
   "id": "22d69611",
   "metadata": {},
   "source": [
    "> R: É retornado o valor 2"
   ]
  },
  {
   "cell_type": "markdown",
   "id": "109ad58d",
   "metadata": {},
   "source": [
    "***Problema 12:***\n",
    "<p>O que acontece quando o código a seguir é executado? Vai dar algum erro? Explique.</p>"
   ]
  },
  {
   "cell_type": "code",
   "execution_count": 78,
   "id": "3cae065d",
   "metadata": {},
   "outputs": [
    {
     "ename": "SyntaxError",
     "evalue": "invalid syntax (<ipython-input-78-d7da28c09a04>, line 5)",
     "output_type": "error",
     "traceback": [
      "\u001b[0;36m  File \u001b[0;32m\"<ipython-input-78-d7da28c09a04>\"\u001b[0;36m, line \u001b[0;32m5\u001b[0m\n\u001b[0;31m    x +\u001b[0m\n\u001b[0m       ^\u001b[0m\n\u001b[0;31mSyntaxError\u001b[0m\u001b[0;31m:\u001b[0m invalid syntax\n"
     ]
    }
   ],
   "source": [
    "x = 2\n",
    "if x == 2:\n",
    "    print(x)\n",
    "else:\n",
    "    x +"
   ]
  },
  {
   "cell_type": "markdown",
   "id": "94e099cf",
   "metadata": {},
   "source": [
    "> R: É retornado um erro de sintaxe, faltam elementos na função."
   ]
  },
  {
   "cell_type": "markdown",
   "id": "397aacc7",
   "metadata": {},
   "source": [
    "## 1.8. Listas"
   ]
  },
  {
   "cell_type": "code",
   "execution_count": 79,
   "id": "0730b178",
   "metadata": {},
   "outputs": [
    {
     "data": {
      "text/plain": [
       "[1, 2, 3]"
      ]
     },
     "execution_count": 79,
     "metadata": {},
     "output_type": "execute_result"
    }
   ],
   "source": [
    "# Lista de números\n",
    "x = [1, 2, 3]\n",
    "x"
   ]
  },
  {
   "cell_type": "code",
   "execution_count": 80,
   "id": "7dbc05c6",
   "metadata": {},
   "outputs": [
    {
     "data": {
      "text/plain": [
       "['ola', 'mundo']"
      ]
     },
     "execution_count": 80,
     "metadata": {},
     "output_type": "execute_result"
    }
   ],
   "source": [
    "# Lista de strings\n",
    "x = ['ola', 'mundo']\n",
    "x"
   ]
  },
  {
   "cell_type": "code",
   "execution_count": 81,
   "id": "59c09df5",
   "metadata": {},
   "outputs": [
    {
     "data": {
      "text/plain": [
       "[1, 2, 'ola', 'mundo', ['outra', 'lista']]"
      ]
     },
     "execution_count": 81,
     "metadata": {},
     "output_type": "execute_result"
    }
   ],
   "source": [
    "# Lista heterogênea, contendo inteiros, strings e outra lista\n",
    "x = [1, 2, 'ola', 'mundo', ['outra', 'lista']]\n",
    "x"
   ]
  },
  {
   "cell_type": "code",
   "execution_count": 82,
   "id": "eaed8b36",
   "metadata": {},
   "outputs": [
    {
     "data": {
      "text/plain": [
       "5"
      ]
     },
     "execution_count": 82,
     "metadata": {},
     "output_type": "execute_result"
    }
   ],
   "source": [
    "# Função integrada len() conta os elementos dentro de uma lista\n",
    "x = [1, 2, 'ola', 'mundo', ['outra', 'lista']]\n",
    "len(x)"
   ]
  },
  {
   "cell_type": "code",
   "execution_count": 83,
   "id": "14ff0504",
   "metadata": {},
   "outputs": [
    {
     "data": {
      "text/plain": [
       "2"
      ]
     },
     "execution_count": 83,
     "metadata": {},
     "output_type": "execute_result"
    }
   ],
   "source": [
    "x = [1, 2, 3]\n",
    "x[1]"
   ]
  },
  {
   "cell_type": "code",
   "execution_count": 84,
   "id": "68f3999d",
   "metadata": {},
   "outputs": [
    {
     "data": {
      "text/plain": [
       "[1, 4, 3]"
      ]
     },
     "execution_count": 84,
     "metadata": {},
     "output_type": "execute_result"
    }
   ],
   "source": [
    "x[1] = 4\n",
    "x"
   ]
  },
  {
   "cell_type": "code",
   "execution_count": 85,
   "id": "5ddea3cb",
   "metadata": {},
   "outputs": [
    {
     "data": {
      "text/plain": [
       "4"
      ]
     },
     "execution_count": 85,
     "metadata": {},
     "output_type": "execute_result"
    }
   ],
   "source": [
    "x[1]"
   ]
  },
  {
   "cell_type": "markdown",
   "id": "eb1ce32b",
   "metadata": {},
   "source": [
    "## 1.9. Módulos"
   ]
  },
  {
   "cell_type": "code",
   "execution_count": 86,
   "id": "d59beb75",
   "metadata": {},
   "outputs": [
    {
     "data": {
      "text/plain": [
       "'Tue Jul  6 11:57:29 2021'"
      ]
     },
     "execution_count": 86,
     "metadata": {},
     "output_type": "execute_result"
    }
   ],
   "source": [
    "# Importando módulos\n",
    "import time\n",
    "time.asctime() # Retorna data e hora local"
   ]
  },
  {
   "cell_type": "code",
   "execution_count": 88,
   "id": "0e278f01",
   "metadata": {},
   "outputs": [
    {
     "name": "stdout",
     "output_type": "stream",
     "text": [
      "hello\r\n"
     ]
    }
   ],
   "source": [
    "# sys fornece acesso a lista de argumentos passada ao programa\n",
    "!python echo.py hello"
   ]
  },
  {
   "cell_type": "code",
   "execution_count": 89,
   "id": "51faf89d",
   "metadata": {},
   "outputs": [
    {
     "name": "stdout",
     "output_type": "stream",
     "text": [
      "hello\r\n"
     ]
    }
   ],
   "source": [
    "!python echo.py hello world"
   ]
  },
  {
   "cell_type": "markdown",
   "id": "ae5de60a",
   "metadata": {},
   "source": [
    "***Problema 13:***\n",
    "<p>Escreva um programa add.py que receba 2 números como argumentos de linha de comando e imprima sua soma.</p>"
   ]
  },
  {
   "cell_type": "code",
   "execution_count": 91,
   "id": "852b5b78",
   "metadata": {},
   "outputs": [
    {
     "name": "stdout",
     "output_type": "stream",
     "text": [
      "8\r\n"
     ]
    }
   ],
   "source": [
    "!python add.py 3 5"
   ]
  },
  {
   "cell_type": "code",
   "execution_count": 93,
   "id": "be08a474",
   "metadata": {},
   "outputs": [
    {
     "name": "stdout",
     "output_type": "stream",
     "text": [
      "11\n"
     ]
    }
   ],
   "source": [
    "!python add.py 2 9"
   ]
  },
  {
   "cell_type": "markdown",
   "id": "22356ef7",
   "metadata": {},
   "source": [
    "# 2. Trabalhando com dados"
   ]
  },
  {
   "cell_type": "code",
   "execution_count": null,
   "id": "2c3e6597",
   "metadata": {},
   "outputs": [],
   "source": []
  }
 ],
 "metadata": {
  "kernelspec": {
   "display_name": "Python 3",
   "language": "python",
   "name": "python3"
  },
  "language_info": {
   "codemirror_mode": {
    "name": "ipython",
    "version": 3
   },
   "file_extension": ".py",
   "mimetype": "text/x-python",
   "name": "python",
   "nbconvert_exporter": "python",
   "pygments_lexer": "ipython3",
   "version": "3.8.8"
  }
 },
 "nbformat": 4,
 "nbformat_minor": 5
}
